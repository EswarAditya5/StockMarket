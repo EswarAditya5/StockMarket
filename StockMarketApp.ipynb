{
 "cells": [
  {
   "cell_type": "markdown",
   "id": "5b94d346",
   "metadata": {},
   "source": [
    "!pip install streamlit"
   ]
  },
  {
   "cell_type": "markdown",
   "id": "30efb142",
   "metadata": {},
   "source": [
    "!pip install yfinance"
   ]
  },
  {
   "cell_type": "markdown",
   "id": "90dfb313",
   "metadata": {},
   "source": [
    "!pip install ta"
   ]
  },
  {
   "cell_type": "code",
   "execution_count": 1,
   "id": "e7c2fcec",
   "metadata": {},
   "outputs": [],
   "source": [
    "import io\n",
    "import os\n",
    "import numpy as np\n",
    "import pandas as pd\n",
    "import datetime"
   ]
  },
  {
   "cell_type": "code",
   "execution_count": 2,
   "id": "dce765e4",
   "metadata": {},
   "outputs": [],
   "source": [
    "#Finance App\n",
    "import streamlit as st\n",
    "import yfinance as yf"
   ]
  },
  {
   "cell_type": "code",
   "execution_count": 3,
   "id": "8cdc1068",
   "metadata": {},
   "outputs": [
    {
     "name": "stderr",
     "output_type": "stream",
     "text": [
      "2023-09-26 11:56:12.219 \n",
      "  \u001b[33m\u001b[1mWarning:\u001b[0m to view this Streamlit app on a browser, run it with the following\n",
      "  command:\n",
      "\n",
      "    streamlit run C:\\Users\\Eswar Aditya\\AppData\\Roaming\\Python\\Python311\\site-packages\\ipykernel_launcher.py [ARGUMENTS]\n"
     ]
    }
   ],
   "source": [
    "ticker=st.sidebar.text_input('Enter a valid stock ticker','GOOG')\n",
    "ticker=yf.Ticker(ticker)\n",
    "today=datetime.date.today()\n",
    "before=today-datetime.timedelta(days=700)\n",
    "start_date=st.sidebar.date_input('start date',before)\n",
    "end_date=st.sidebar.date_input('end date',today)\n",
    "if start_date < end_date:\n",
    "    st.sidebar.success('Start Date:`%s`\\n\\n End date:`%s`'%(start_date,end_date))\n",
    "else:\n",
    "    st.sidebar.error('Error: End date must be after start date')"
   ]
  },
  {
   "cell_type": "markdown",
   "id": "c1ba404f",
   "metadata": {},
   "source": [
    "ticker=st.sidebar.selectbox('Select Ticker',('INFY.NS','TCS.NS','WIPRO.NS'))\n",
    "today=datetime.date.today()\n",
    "before=today-datetime.timedelta(days=700)\n",
    "start_date=st.sidebar.date_input('start date',before)\n",
    "end_date=st.sidebar.date_input('end date',today)\n",
    "if start_date < end_date:\n",
    "    st.sidebar.success('Start Date:`%s`\\n\\n End date:`%s`'%(start_date,end_date))\n",
    "else:\n",
    "    st.sidebar.error('Error: End date must be after start date')"
   ]
  },
  {
   "cell_type": "code",
   "execution_count": 4,
   "id": "14d91020",
   "metadata": {},
   "outputs": [],
   "source": [
    "from ta.volatility import BollingerBands\n",
    "from ta.trend import MACD\n",
    "from ta.momentum import RSIIndicator"
   ]
  },
  {
   "cell_type": "code",
   "execution_count": 5,
   "id": "0dcc8b52",
   "metadata": {},
   "outputs": [],
   "source": [
    "stock_df=ticker.history('ld',start=start_date,end=end_date)"
   ]
  },
  {
   "cell_type": "markdown",
   "id": "2a4d948e",
   "metadata": {},
   "source": [
    "stock_df=yf.download(ticker,start=start_date,end=end_date,progress=False)"
   ]
  },
  {
   "cell_type": "code",
   "execution_count": 6,
   "id": "e46d6888",
   "metadata": {},
   "outputs": [
    {
     "data": {
      "text/html": [
       "<div>\n",
       "<style scoped>\n",
       "    .dataframe tbody tr th:only-of-type {\n",
       "        vertical-align: middle;\n",
       "    }\n",
       "\n",
       "    .dataframe tbody tr th {\n",
       "        vertical-align: top;\n",
       "    }\n",
       "\n",
       "    .dataframe thead th {\n",
       "        text-align: right;\n",
       "    }\n",
       "</style>\n",
       "<table border=\"1\" class=\"dataframe\">\n",
       "  <thead>\n",
       "    <tr style=\"text-align: right;\">\n",
       "      <th></th>\n",
       "      <th>Open</th>\n",
       "      <th>High</th>\n",
       "      <th>Low</th>\n",
       "      <th>Close</th>\n",
       "      <th>Volume</th>\n",
       "      <th>Dividends</th>\n",
       "      <th>Stock Splits</th>\n",
       "    </tr>\n",
       "    <tr>\n",
       "      <th>Date</th>\n",
       "      <th></th>\n",
       "      <th></th>\n",
       "      <th></th>\n",
       "      <th></th>\n",
       "      <th></th>\n",
       "      <th></th>\n",
       "      <th></th>\n",
       "    </tr>\n",
       "  </thead>\n",
       "  <tbody>\n",
       "    <tr>\n",
       "      <th>2021-10-26 00:00:00-04:00</th>\n",
       "      <td>140.606003</td>\n",
       "      <td>140.839493</td>\n",
       "      <td>139.005493</td>\n",
       "      <td>139.671997</td>\n",
       "      <td>28258000</td>\n",
       "      <td>0.0</td>\n",
       "      <td>0.0</td>\n",
       "    </tr>\n",
       "    <tr>\n",
       "      <th>2021-10-27 00:00:00-04:00</th>\n",
       "      <td>139.902496</td>\n",
       "      <td>149.117996</td>\n",
       "      <td>139.902496</td>\n",
       "      <td>146.427505</td>\n",
       "      <td>51850000</td>\n",
       "      <td>0.0</td>\n",
       "      <td>0.0</td>\n",
       "    </tr>\n",
       "    <tr>\n",
       "      <th>2021-10-28 00:00:00-04:00</th>\n",
       "      <td>147.298996</td>\n",
       "      <td>147.424500</td>\n",
       "      <td>144.763504</td>\n",
       "      <td>146.128998</td>\n",
       "      <td>32418000</td>\n",
       "      <td>0.0</td>\n",
       "      <td>0.0</td>\n",
       "    </tr>\n",
       "    <tr>\n",
       "      <th>2021-10-29 00:00:00-04:00</th>\n",
       "      <td>145.520004</td>\n",
       "      <td>148.613007</td>\n",
       "      <td>145.166504</td>\n",
       "      <td>148.270493</td>\n",
       "      <td>28954000</td>\n",
       "      <td>0.0</td>\n",
       "      <td>0.0</td>\n",
       "    </tr>\n",
       "    <tr>\n",
       "      <th>2021-11-01 00:00:00-04:00</th>\n",
       "      <td>148.164993</td>\n",
       "      <td>148.399506</td>\n",
       "      <td>143.579498</td>\n",
       "      <td>143.774002</td>\n",
       "      <td>32272000</td>\n",
       "      <td>0.0</td>\n",
       "      <td>0.0</td>\n",
       "    </tr>\n",
       "  </tbody>\n",
       "</table>\n",
       "</div>"
      ],
      "text/plain": [
       "                                 Open        High         Low       Close  \\\n",
       "Date                                                                        \n",
       "2021-10-26 00:00:00-04:00  140.606003  140.839493  139.005493  139.671997   \n",
       "2021-10-27 00:00:00-04:00  139.902496  149.117996  139.902496  146.427505   \n",
       "2021-10-28 00:00:00-04:00  147.298996  147.424500  144.763504  146.128998   \n",
       "2021-10-29 00:00:00-04:00  145.520004  148.613007  145.166504  148.270493   \n",
       "2021-11-01 00:00:00-04:00  148.164993  148.399506  143.579498  143.774002   \n",
       "\n",
       "                             Volume  Dividends  Stock Splits  \n",
       "Date                                                          \n",
       "2021-10-26 00:00:00-04:00  28258000        0.0           0.0  \n",
       "2021-10-27 00:00:00-04:00  51850000        0.0           0.0  \n",
       "2021-10-28 00:00:00-04:00  32418000        0.0           0.0  \n",
       "2021-10-29 00:00:00-04:00  28954000        0.0           0.0  \n",
       "2021-11-01 00:00:00-04:00  32272000        0.0           0.0  "
      ]
     },
     "execution_count": 6,
     "metadata": {},
     "output_type": "execute_result"
    }
   ],
   "source": [
    "stock_df.head()"
   ]
  },
  {
   "cell_type": "code",
   "execution_count": 7,
   "id": "f511fe27",
   "metadata": {},
   "outputs": [],
   "source": [
    "bb_ind=BollingerBands(stock_df['Close'])\n",
    "bb=stock_df\n",
    "bb['bb_h']=bb_ind.bollinger_hband()\n",
    "bb['bb_l']=bb_ind.bollinger_lband()\n",
    "bb=bb[['Close','bb_h','bb_l']]"
   ]
  },
  {
   "cell_type": "code",
   "execution_count": 8,
   "id": "a4aecc08",
   "metadata": {},
   "outputs": [],
   "source": [
    "macd=MACD(stock_df['Close']).macd()"
   ]
  },
  {
   "cell_type": "code",
   "execution_count": 9,
   "id": "3ee7a758",
   "metadata": {},
   "outputs": [],
   "source": [
    "rsi=RSIIndicator(stock_df['Close']).rsi()"
   ]
  },
  {
   "cell_type": "code",
   "execution_count": 10,
   "id": "db655ee3",
   "metadata": {},
   "outputs": [
    {
     "data": {
      "text/plain": [
       "DeltaGenerator()"
      ]
     },
     "execution_count": 10,
     "metadata": {},
     "output_type": "execute_result"
    }
   ],
   "source": [
    "st.line_chart(bb)\n",
    "progress_bar=st.progress(0)\n",
    "st.area_chart(macd)\n",
    "st.line_chart(rsi)"
   ]
  },
  {
   "cell_type": "code",
   "execution_count": null,
   "id": "c898dccc",
   "metadata": {},
   "outputs": [],
   "source": []
  },
  {
   "cell_type": "code",
   "execution_count": null,
   "id": "9ae9163e",
   "metadata": {},
   "outputs": [],
   "source": []
  }
 ],
 "metadata": {
  "kernelspec": {
   "display_name": "Python 3 (ipykernel)",
   "language": "python",
   "name": "python3"
  },
  "language_info": {
   "codemirror_mode": {
    "name": "ipython",
    "version": 3
   },
   "file_extension": ".py",
   "mimetype": "text/x-python",
   "name": "python",
   "nbconvert_exporter": "python",
   "pygments_lexer": "ipython3",
   "version": "3.11.5"
  }
 },
 "nbformat": 4,
 "nbformat_minor": 5
}
